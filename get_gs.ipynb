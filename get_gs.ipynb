{
 "cells": [
  {
   "cell_type": "code",
   "execution_count": 2,
   "metadata": {},
   "outputs": [
    {
     "name": "stdout",
     "output_type": "stream",
     "text": [
      "Python 3.7.3\n"
     ]
    }
   ],
   "source": [
    "!python -V"
   ]
  },
  {
   "cell_type": "markdown",
   "metadata": {},
   "source": [
    "# Google スニペットを入手しよう"
   ]
  },
  {
   "cell_type": "markdown",
   "metadata": {},
   "source": [
    "参考： https://qiita.com/zak_y/items/42ca0f1ea14f7046108c#comments"
   ]
  },
  {
   "cell_type": "code",
   "execution_count": 1,
   "metadata": {},
   "outputs": [],
   "source": [
    "# 関数定義\n",
    "import os\n",
    "import datetime\n",
    "import json\n",
    "\n",
    "from time import sleep\n",
    "from googleapiclient.discovery import build\n",
    "\n",
    "GOOGLE_API_KEY          = \"xxxxxxxxxxxxxxxxxxxxxxxxxxxxxxxxxxxxxxx\"\n",
    "CUSTOM_SEARCH_ENGINE_ID = \"000000000000000000000:xxxxxxxxxxx\"\n",
    "\n",
    "DATA_DIR = 'data'\n",
    "\n",
    "def makeDir(path):\n",
    "    if not os.path.isdir(path):\n",
    "        os.mkdir(path)\n",
    "\n",
    "def get_data(qid, query, answer, dnum=10):# dnum:データ数.1page目の上から取ってくる数を指定． この引数を持つ関数にしたい．\n",
    "    today = datetime.datetime.today().strftime(\"%Y%m%d\")\n",
    "    timestamp = datetime.datetime.today().strftime(\"%Y/%m/%d %H:%M:%S\")\n",
    "\n",
    "    makeDir(DATA_DIR)# 関数の中から外の変数は見れる\n",
    "\n",
    "    service = build(\"customsearch\", \"v1\", developerKey=GOOGLE_API_KEY) # このインスタンスが， どんなことできるのか知りたい\n",
    "\n",
    "    page_limit = 1# どうやら，一度に10件までしかデータを取得できないみたいなので，forを回す必要がある．\n",
    "    start_index = 1# データを取得し始めるindex. 1なので，頭から．\n",
    "    response = []\n",
    "    for n_page in range(0, page_limit):\n",
    "        try:# 例外を捉える部分．Errorが無ければそのまま実行．あれば exceptへ．\n",
    "            sleep(1)# 1秒待つ．何故必要かは不明．\n",
    "            response.append(service.cse().list(# responseにデータを格納.\n",
    "                q=query,\n",
    "                cx=CUSTOM_SEARCH_ENGINE_ID,\n",
    "                lr='lang_ja',\n",
    "                num=dnum,# データ数. [1,10].\n",
    "                start=start_index\n",
    "            ).execute())\n",
    "            start_index = response[n_page].get(\"queries\").get(\"nextPage\")[0].get(\"startIndex\")\n",
    "        except Exception as e:\n",
    "            print(e)\n",
    "            break\n",
    "    \n",
    "    # レスポンスをjson形式で保存\n",
    "    save_response_dir = os.path.join(DATA_DIR, 'response')\n",
    "    makeDir(save_response_dir)\n",
    "    out = {'snapshot_ymd': today, 'snapshot_timestamp': timestamp, 'answer': answer, 'response': []}\n",
    "    out['response'] = response\n",
    "    jsonstr = json.dumps(out, ensure_ascii=False)\n",
    "    with open(os.path.join(save_response_dir, 'qid_' + str(qid) + '.json'), mode='w') as response_file:\n",
    "        response_file.write(jsonstr)\n",
    "        \n",
    "def make_data(qid):\n",
    "    #today = datetime.datetime.today().strftime(\"%Y%m%d\")\n",
    "\n",
    "    response_filename = os.path.join(DATA_DIR, 'response', 'qid_' + str(qid) + '.json')\n",
    "    with open(response_filename, 'r') as response_file:\n",
    "        response_json = response_file.read()\n",
    "        response_tmp = json.loads(response_json)\n",
    "        ymd = response_tmp['snapshot_ymd']\n",
    "        response = response_tmp['response']\n",
    "    \n",
    "    results = []\n",
    "    cnt = 0\n",
    "    for one_res in range(len(response)):# len(*)は,qidにつき1.あんまり意味ない．qidにつき11件以上データ取ったらそうでもない？\n",
    "        if 'items' in response[one_res] and len(response[one_res]['items']) > 0:\n",
    "            #print(response[one_res]['queries']['request'][0]['searchTerms'])\n",
    "            answer = response_tmp['answer']# 僕の書き方依存\n",
    "            question  = response[one_res]['queries']['request'][0]['searchTerms']\n",
    "            results.append({'qid': qid, 'ymd': ymd, 'question': question, 'answer': answer, 'documents': []})#'title': title, 'link': link, 'snippet': snippet}) \n",
    "            for i in range(len(response[one_res]['items'])):\n",
    "                cnt += 1\n",
    "                display_link = response[one_res]['items'][i]['displayLink']\n",
    "                title        = response[one_res]['items'][i]['title']\n",
    "                link         = response[one_res]['items'][i]['link']\n",
    "                snippet      = response[one_res]['items'][i]['snippet'].replace('\\n', '')\n",
    "                #print(results[one_res]['documents'])\n",
    "                results[one_res]['documents'].append({'no': cnt, 'display_link': display_link, 'link': link, 'title': title, 'text': snippet})\n",
    "                #results.append({'no': cnt, 'ymd': ymd, 'display_link': display_link, 'link': link, 'documents': [{'title': tilte, 'text': snippet}]})#'title': title, 'link': link, 'snippet': snippet}) \n",
    "    save_results_dir = os.path.join(DATA_DIR, 'results')\n",
    "    makeDir(save_results_dir)\n",
    "    \n",
    "    # レスポンスをjson形式で保存\n",
    "    jsonstr = json.dumps(results, ensure_ascii=False)\n",
    "    with open(os.path.join(save_results_dir, 'qid_' + str(qid) + '.json'), mode='w') as results_file:\n",
    "        results_file.write(jsonstr)"
   ]
  },
  {
   "cell_type": "markdown",
   "metadata": {},
   "source": [
    "## (q,a)取得"
   ]
  },
  {
   "cell_type": "code",
   "execution_count": 13,
   "metadata": {},
   "outputs": [],
   "source": [
    "import gzip\n",
    "import json\n",
    "\n",
    "dataset = []\n",
    "with gzip.open(\"dataset/all-v1.0.json.gz\", \"rt\", encoding=\"utf-8\") as fp:\n",
    "    for line in fp:\n",
    "        data = json.loads(line)\n",
    "        if data[\"documents\"]:\n",
    "            dataset.append(data)"
   ]
  },
  {
   "cell_type": "markdown",
   "metadata": {},
   "source": [
    "## Googleスニペットを入手\n",
    "3月-11月は16時がリセットタイミングらしい． 1query 10 件データ取ってくるなら， 100query/day. "
   ]
  },
  {
   "cell_type": "code",
   "execution_count": 3,
   "metadata": {},
   "outputs": [
    {
     "data": {
      "text/plain": [
       "428"
      ]
     },
     "execution_count": 3,
     "metadata": {},
     "output_type": "execute_result"
    }
   ],
   "source": [
    "start = 400\n",
    "dataset[start]['qid']"
   ]
  },
  {
   "cell_type": "code",
   "execution_count": 4,
   "metadata": {},
   "outputs": [
    {
     "name": "stdout",
     "output_type": "stream",
     "text": [
      "'NoneType' object is not subscriptable\n"
     ]
    }
   ],
   "source": [
    "hoge# うっかり実行しないようにhoge\n",
    "for i in range(start, start + 100):\n",
    "    qid, q, a = dataset[i]['qid'], dataset[i]['question'], dataset[i]['answer']\n",
    "    get_data(qid, q, a)"
   ]
  },
  {
   "cell_type": "code",
   "execution_count": 39,
   "metadata": {},
   "outputs": [],
   "source": [
    "# 取得したデータを確認\n",
    "def view_data(qid):\n",
    "    dataset = []\n",
    "    save_response_dir = os.path.join(DATA_DIR, 'response')\n",
    "    with open(os.path.join(save_response_dir, 'qid_' + str(qid) + '.json'), mode='r') as fp:\n",
    "        for line in fp:\n",
    "            data = json.loads(line)\n",
    "            dataset.append(data)\n",
    "        return dataset"
   ]
  },
  {
   "cell_type": "markdown",
   "metadata": {},
   "source": [
    "## 加工整形処理"
   ]
  },
  {
   "cell_type": "markdown",
   "metadata": {},
   "source": [
    "qid が連続じゃないので，元データのファイルの読み込みに，少し工夫が必要になった"
   ]
  },
  {
   "cell_type": "code",
   "execution_count": 3,
   "metadata": {},
   "outputs": [
    {
     "data": {
      "text/plain": [
       "12"
      ]
     },
     "execution_count": 3,
     "metadata": {},
     "output_type": "execute_result"
    }
   ],
   "source": [
    "start = 10\n",
    "dnum = 90\n",
    "dataset[start]['qid']"
   ]
  },
  {
   "cell_type": "code",
   "execution_count": 4,
   "metadata": {},
   "outputs": [],
   "source": [
    "hoge #うっかり実行しないようにhgoe\n",
    "for i in range(start, start + dnum):\n",
    "    make_data(dataset[i]['qid'])"
   ]
  },
  {
   "cell_type": "markdown",
   "metadata": {},
   "source": [
    "## 取得したデータを確認"
   ]
  },
  {
   "cell_type": "code",
   "execution_count": 14,
   "metadata": {},
   "outputs": [],
   "source": [
    "import os\n",
    "import json\n",
    "DATA_DIR = 'data'\n",
    "\n",
    "save_response_dir = os.path.join(DATA_DIR, 'results')\n",
    "results = []\n",
    "for i in range(10):\n",
    "    qid = dataset[i]['qid']\n",
    "    with open(os.path.join(save_response_dir, 'qid_' + str(qid) + '.json'), mode='r') as fp:\n",
    "        for line in fp:\n",
    "            result = json.loads(line)\n",
    "            results.append(result)"
   ]
  },
  {
   "cell_type": "markdown",
   "metadata": {},
   "source": [
    "データを見てみて\n",
    "- snippet の末には \\xa0... がある．\n",
    "- 自分で Google 検索を行った結果と少し異なる．サイトの表示順が違った．APIの検索方法とかは調べた方が良さそう．\n",
    "- スニペットの選択方法が気になる．\n",
    "- クエリに対して，何件スニペットを取ってくるかは未定(今回なら10件だけ取ってきた．取得したコードのページ1とした部分.1ページに表示されるサイト数は10件)"
   ]
  },
  {
   "cell_type": "code",
   "execution_count": 5,
   "metadata": {},
   "outputs": [
    {
     "data": {
      "text/plain": [
       "dict_keys(['qid', 'ymd', 'question', 'answer', 'documents'])"
      ]
     },
     "execution_count": 5,
     "metadata": {},
     "output_type": "execute_result"
    }
   ],
   "source": [
    "results[0][0].keys() # results[1][2]. 1:qid, 2:qidに対応するデータ.10件以上とると，index:0以外も使う．"
   ]
  },
  {
   "cell_type": "code",
   "execution_count": 6,
   "metadata": {},
   "outputs": [
    {
     "data": {
      "text/plain": [
       "10"
      ]
     },
     "execution_count": 6,
     "metadata": {},
     "output_type": "execute_result"
    }
   ],
   "source": [
    "a =results[0][0]['documents']\n",
    "len(a)"
   ]
  },
  {
   "cell_type": "code",
   "execution_count": 7,
   "metadata": {},
   "outputs": [
    {
     "data": {
      "text/plain": [
       "{'no': 1,\n",
       " 'display_link': 'qss.quiz-island.site',\n",
       " 'link': 'http://qss.quiz-island.site/abcgo-info/1',\n",
       " 'title': 'abc / EQIDEN 過去問検索サイト『 abc / EQIDEN Search (β)』',\n",
       " 'text': '大会名, abc the first (2003). 種別, ペーパー筆記. 問題, 「abc ～the first～」へようこそ!さて、ABC・・・と始まるアルファベットは、全部で何文字でしょう？ 正解, 26文字. 解説. 戻る. ↑'}"
      ]
     },
     "execution_count": 7,
     "metadata": {},
     "output_type": "execute_result"
    }
   ],
   "source": [
    "a[0] "
   ]
  },
  {
   "cell_type": "code",
   "execution_count": 15,
   "metadata": {},
   "outputs": [
    {
     "data": {
      "text/plain": [
       "[{'qid': 1,\n",
       "  'ymd': '20200825',\n",
       "  'question': '「abc 〜the first〜」へようこそ!さて、ABC・・・と始まるアルファベットは、全部で何文字でしょう?',\n",
       "  'answer': '26文字',\n",
       "  'documents': [{'no': 1,\n",
       "    'display_link': 'qss.quiz-island.site',\n",
       "    'link': 'http://qss.quiz-island.site/abcgo-info/1',\n",
       "    'title': 'abc / EQIDEN 過去問検索サイト『 abc / EQIDEN Search (β)』',\n",
       "    'text': '大会名, abc the first (2003). 種別, ペーパー筆記. 問題, 「abc ～the first～」へようこそ!さて、ABC・・・と始まるアルファベットは、全部で何文字でしょう？ 正解, 26文字. 解説. 戻る. ↑'},\n",
       "   {'no': 2,\n",
       "    'display_link': 'web.sfc.wide.ad.jp',\n",
       "    'link': 'https://web.sfc.wide.ad.jp/~kaori/quiz.pdf',\n",
       "    'title': '26文字 「abc ～the first～」へようこそ！さて、ABC・・・と始まる ...',\n",
       "    'text': '1. 26文字. 「abc ～the first～」へようこそ！さて、ABC・・・と始まるアルファベットは、全部で何文字で. しょう？ 2. 骨川（滑川 ... 織田信長、豊臣秀吉、徳川家康という３人の戦国武将の性格を表現するのに用いられる鳥は何でしょ. う？ 6.'},\n",
       "   {'no': 3,\n",
       "    'display_link': 'quizlet.com',\n",
       "    'link': 'https://quizlet.com/jp/470527690/abc1-flash-cards/',\n",
       "    'title': 'abc1 Flashcards',\n",
       "    'text': '「abc ～the first～」へようこそ！さて、ABC・・・と始まるアルファベットは、全部で何文字でしょう？ 26文字. 人気漫画『ドラえもん』の登場人物で、ジャイアンの苗字は剛田ですが、スネ夫の苗字は何でしょう？ 骨川（滑川も正解）.'},\n",
       "   {'no': 4,\n",
       "    'display_link': 'quizinvip.playing.wiki',\n",
       "    'link': 'https://quizinvip.playing.wiki/d/%A5%AF%A5%A4%A5%BA%CD%D1%CE%E3%BD%B81909',\n",
       "    'title': 'クイズ用例集1909 - 金曜土曜はVIPでクイズやろうぜ公式Wiki',\n",
       "    'text': '2019年9月7日 ... 普通、人間の乳歯は全部で何本あるでしょう？ 20本. 英語のアルファベットは26文字ですが、ギリシャ文字のアルファベットは全部で何文字でしょう？ 24文字. 「abc ～the first～」へようこそ!さて、ABC・・・と始まる\\xa0...'},\n",
       "   {'no': 5,\n",
       "    'display_link': '6221.teacup.com',\n",
       "    'link': 'https://6221.teacup.com/quizfes/bbs/15',\n",
       "    'title': '第29回クイズフェスティバル。in東大宮',\n",
       "    'text': '2016年11月23日 ... さて第二企画は上田洋一先生。「皆さまにお気に入り ... 一回戦で出題した問題は「ａｂｃ～ｔｈｅ ｆｉｒｓｔ～」にようこそ！さて、ＡＢＣ．．．と始まるアルファベットは、全部で何文字でしょう？」 「ポーカーで、5枚\\xa0...'},\n",
       "   {'no': 6,\n",
       "    'display_link': 'www.e-ehonclub.com',\n",
       "    'link': 'https://www.e-ehonclub.com/home/ehonlist',\n",
       "    'title': 'ehonlist | 英語の絵本クラブ',\n",
       "    'text': \"アルファベットの形が、それぞれの頭文字で始まる単語の絵のレリーフの組み合わせで構成されています。 ... 巻末にはABC順に475の単語がリストアップされており、全部見つけるのは大人でもきっと大変なはず。 ... クマさんがどういうルートをたどって、何曜日にどこにお出掛けしているのか、地図をなぞって当ててみましょう。 ... Charley's First Night (TP) ... さんが最後通告を突きつけ、ウシたちは緊急会議。深刻なお話が、ユーモラスなイラストで進行します。さて結末は？\"},\n",
       "   {'no': 7,\n",
       "    'display_link': 'h50146.www5.hpe.com',\n",
       "    'link': 'https://h50146.www5.hpe.com/products/software/oe/hpux/developer/column/unixtext.pdf',\n",
       "    'title': 'UNIXの教科書 ～はじめよう! WindowsとLinuxからのステップアップ～',\n",
       "    'text': '2004年11月20日 ... レクトリやファイルを操作する基本的なコマンドをいくつか紹介していくことにしましょう。(2007 年 ... UNIX 1st Edition. 1968 年 ... さて、ディレクトリはその下のファイルの一覧が格納されたファイルのようなイメージと 1. 時間目に ... あれ？ esc キーを押してもだめなんですけど… ... 「ls」とか「cd」といったように、UNIX のコマンドはアルファベット 2 文字とかか 3 文字 ... 先月の grep コマンドで習った、[abc]や「0-9」といった文字クラスは使えるのですか？'},\n",
       "   {'no': 8,\n",
       "    'display_link': 'medium.com',\n",
       "    'link': 'https://medium.com/%E6%9D%B1%E4%BA%AC%E3%82%AB%E3%83%AC%E3%83%BC%E6%97%A5%E8%A8%98%E3%81%B5%E3%81%9F%E3%81%9F%E3%81%B3/%E3%82%A2%E3%83%AB%E3%83%95%E3%82%A1%E3%83%99%E3%83%83%E3%83%8826%E6%96%87%E5%AD%97%E3%81%A7%E6%96%87%E3%82%92%E4%BD%9C%E3%82%8B-5db6aebd713b',\n",
       "    'title': 'アルファベット26文字で文を作る. パングラム（pangram）の話 ...',\n",
       "    'text': '2018年4月7日 ... これの弁解のためではないと思うが、「私の知る限りでは、一般に通用しない言葉や固有名詞を使わずに、アルファベット全部を使い、意味の通る文章を作るのに成功したものは、まだいない」と、ド・モルガンは述べている\\xa0...'},\n",
       "   {'no': 9,\n",
       "    'display_link': 'plaza.rakuten.co.jp',\n",
       "    'link': 'https://plaza.rakuten.co.jp/konyanyachiwa/diaryall/?PageId=1',\n",
       "    'title': '新着記事一覧 | 感動Every day!! - 楽天ブログ',\n",
       "    'text': 'へようこそお越しいただき、ありがとうございます。 ... 先日、ユーミンのラジオ番組に刺激を受け、持っている古いＣＤの中から、アーティストのABC順に聴くように、ただ今しています。 ただし、1つのアルファベットに1枚だけ選んでいます。 ... さて今日は、Eから始まるアーティストというわけで、エンニオ・モリコーネ ( ENNIO MORRICONE ）映画音楽で ... もちろん、生で聴いた方がいいでしょうけど、どのようなドラミングでしているのかがよくわかって、この配信もいい\\xa0...'},\n",
       "   {'no': 10,\n",
       "    'display_link': 'www.kodomo.go.jp',\n",
       "    'link': 'http://www.kodomo.go.jp/study/chair/outline/pdf/H19-light.pdf',\n",
       "    'title': '絵本の愉しみ（2）',\n",
       "    'text': \"2008年10月16日 ... く書きましたので、それをもう一度ここで読ませ. ていただいて、講座の始まりとさせていただきま. しょう。 ... さて、1902年に出版されたデンスローの『クリ ... では、ウィンスロー・ホーマーはこれにどうい. うイラストレーションを描いたでしょうか。全部. で17枚描いています。いずれ ... かれていて、子どもが文字を学習するABC絵本 ... ぜんも、なんまんも、なんびゃくまんものねこを、 ... 絵は濃淡の黒で、文字はアルファベットのキャピ ... Kitten's First Full Moon.\"}]}]"
      ]
     },
     "execution_count": 15,
     "metadata": {},
     "output_type": "execute_result"
    }
   ],
   "source": [
    "# データ確認\n",
    "results[0]"
   ]
  },
  {
   "cell_type": "code",
   "execution_count": 16,
   "metadata": {},
   "outputs": [
    {
     "data": {
      "text/plain": [
       "[{'qid': 2,\n",
       "  'ymd': '20200825',\n",
       "  'question': '人気漫画『ドラえもん』の登場人物で、ジャイアンの苗字は剛田ですが、スネ夫の苗字は何でしょう?',\n",
       "  'answer': '骨川',\n",
       "  'documents': [{'no': 1,\n",
       "    'display_link': 'quiz-schedule.info',\n",
       "    'link': 'https://quiz-schedule.info/quiz_no_mori/data/aquiz0050.html',\n",
       "    'title': '問題データ',\n",
       "    'text': '番号, 問題, 解答. 1, 「abc ～the first～」へようこそ！さて、ABC・・・と始まるアルファベットは、全部で何文字でしょう？ 26文字. 2, 人気漫画『ドラえもん』の登場人物で、ジャイアンの苗字は剛田ですが、スネ夫の苗字は何でしょう？'},\n",
       "   {'no': 2,\n",
       "    'display_link': 'ja.wikipedia.org',\n",
       "    'link': 'https://ja.wikipedia.org/wiki/%E9%AA%A8%E5%B7%9D%E3%82%B9%E3%83%8D%E5%A4%AB',\n",
       "    'title': '骨川スネ夫 - Wikipedia',\n",
       "    'text': '骨川 スネ夫（ほねかわ スネお）は、藤子・F・不二雄の漫画作品『ドラえもん』に登場する架空の人物。野比のび太のクラスメイト。2月生まれ（何日かは不明、午後5時5分に生まれたことがビデオに残されている）（方倉設定では3月28日\\xa0...'},\n",
       "   {'no': 3,\n",
       "    'display_link': 'note.com',\n",
       "    'link': 'https://note.com/ashi_tomo/n/nfb0c6ea2219e',\n",
       "    'title': '【三題話】ドラえもんのキャラクターたちの名字は実在するのか ...',\n",
       "    'text': '2019年11月29日 ... このあまりに有名なマンガ、登場人物が変わった名前なのも特徴の一つで、野比のび太とか、出木杉君とか、実際にはいなさそうな ... ところでそれこそいま調べたのですが、出木杉君って、「出木杉英才」君なんですね。 ... 源といえば源氏ですが、しずかちゃんは源氏の末裔なのでしょうか。 ... 次いでジャイアンこと剛田武並びに剛田ジャイ子の「剛田」。 ... そして、のび太の「野比」、スネ夫の「骨川」、太郎じゃなくて英才の「出木杉」は0人とのことでした。'},\n",
       "   {'no': 4,\n",
       "    'display_link': 'www.tv-asahi.co.jp',\n",
       "    'link': 'https://www.tv-asahi.co.jp/doraemon/cast/',\n",
       "    'title': 'ドラえもんと仲間たち｜ドラえもん｜テレビ朝日',\n",
       "    'text': 'ドラえもん. ２１１２年９月３日生まれの猫型ロボット。のび太の子孫・セワシとともに、２２世紀からやってきた。おなか ... 剛田 武（ごうだ たけし）. のび太の同級生。みんなからはジャイアンとよばれている。乱暴なガキ ... スネ夫のママ. お金持ちの奥様で、とても教育熱心。スネ夫を「スネちゃま」とよんでいる。 ... 絵を描くのが得意で、将来は漫画家になりたいと思っている。 ... ドラえもんのロボット学校時代の同級生で、いまはミュージカルなどのステージに立つ人気スター。'},\n",
       "   {'no': 5,\n",
       "    'display_link': 'matome.naver.jp',\n",
       "    'link': 'https://matome.naver.jp/odai/2150393701637177101/2150565176122777903',\n",
       "    'title': 'tweet : クイズ王になりたい人のための解答事典【ほ - ほん ...',\n",
       "    'text': '2017年9月17日 ... 人気漫画『ドラえもん』の登場人物で、ジャイアンの苗字は剛田ですが、スネ夫の苗字は何でしょう？／【骨川（滑川も正解）】. 返信 リツイート いいね 2011.10.14 20:15. 削除. 前へ 次へ · はてなの虹さん; | 2017.09.17\\xa0...'},\n",
       "   {'no': 6,\n",
       "    'display_link': 'qss.quiz-island.site',\n",
       "    'link': 'http://qss.quiz-island.site/abcgo-gacha/103625/',\n",
       "    'title': 'abc / EQIDEN 過去問検索サイト『 abc / EQIDEN Search (β)』',\n",
       "    'text': '郵政三事業の民営化」などというときの「三事業」とは、「郵便」「貯金」とあと1つは何でしょう？ 正解 : 簡易保険( ... 人気漫画『ドラえもん』の登場人物で、ジャイアンの苗字は剛田ですが、スネ夫の苗字は何でしょう？ 正解 : 骨川(滑川も\\xa0...'},\n",
       "   {'no': 7,\n",
       "    'display_link': 'matome.naver.jp',\n",
       "    'link': 'https://matome.naver.jp/m/odai/2150393701637177101?page=4',\n",
       "    'title': 'クイズ王になりたい人のための解答事典【ほ - ほん】 - NAVER まとめ',\n",
       "    'text': '2019年10月17日 ... 解答となる言葉ごとに問題を掲載する百科事典的なまとめです。クイズの勉強にお役立て ... 人気漫画『ドラえもん』の登場人物で、ジャイアンの苗字は剛田ですが、スネ夫の苗字は何でしょう？／【骨川（滑川も正解）】.'},\n",
       "   {'no': 8,\n",
       "    'display_link': 'www.u-pro.org',\n",
       "    'link': 'http://www.u-pro.org/?attachment_id',\n",
       "    'title': 'ドラえもんクイズ',\n",
       "    'text': 'お知らせです♪. 先日、2020年6月21日にＵプロジェクトは. ７周年を迎えることができました！！ 『Ｕプロを利用して ... ③しずかちゃんの名字はなんでしょうか。 ... 答え 剛田（ごうだ）. ⑤のび太・しずかちゃん、ジャイアン、スネ夫この中で家に池があるのはどの家でしょうか。 ... ④のび太の同級生として、登場するのび太より勉強も運動もできない子は誰くんでしょうか。 ... ⑥ドラえもんの映画（大長編シリーズ）で唯一単行本（マンガ）化されていない作品は何でしょうか。'},\n",
       "   {'no': 9,\n",
       "    'display_link': 'www.quiz-server.com',\n",
       "    'link': 'http://www.quiz-server.com/quiz-o/theme/character/345/',\n",
       "    'title': '漫画『ドラえもん』に登場する、ジャイアンの名字は剛田ですが ...',\n",
       "    'text': '漫画『ドラえもん』に登場する、ジャイアンの名字は剛田ですが、スネ夫の名字は何でしょう？ 答えを見る: 答え：骨川. 尾林 衡史（おばやし ひでふみ）. 尾林 衡史（おばやし ひでふみ）. 1973年 福岡県生まれ。 大学卒業後、エリート\\xa0...'},\n",
       "   {'no': 10,\n",
       "    'display_link': 'quizinvip.playing.wiki',\n",
       "    'link': 'https://quizinvip.playing.wiki/d/%A5%AF%A5%A4%A5%BA%CD%D1%CE%E3%BD%B81909',\n",
       "    'title': 'クイズ用例集1909 - 金曜土曜はVIPでクイズやろうぜ公式Wiki',\n",
       "    'text': '2019年9月7日 ... 国連の安全保障理事会において、常任理事国は5ヶ国ですが、非常任理事国は全部で何ヶ国でしょう？ 10ヶ国. 毎年1月 ... 人気漫画『ドラえもん』の登場人物で、ジャイアンの苗字は剛田ですが、スネ夫の苗字は何でしょう？'}]}]"
      ]
     },
     "execution_count": 16,
     "metadata": {},
     "output_type": "execute_result"
    }
   ],
   "source": [
    "results[1]"
   ]
  },
  {
   "cell_type": "code",
   "execution_count": 17,
   "metadata": {},
   "outputs": [
    {
     "data": {
      "text/plain": [
       "[{'qid': 3,\n",
       "  'ymd': '20200825',\n",
       "  'question': '格闘家ボブ・サップの出身国はどこでしょう?',\n",
       "  'answer': 'アメリカ',\n",
       "  'documents': [{'no': 1,\n",
       "    'display_link': 'ja.wikipedia.org',\n",
       "    'link': 'https://ja.wikipedia.org/wiki/%E3%83%9C%E3%83%96%E3%83%BB%E3%82%B5%E3%83%83%E3%83%97',\n",
       "    'title': 'ボブ・サップ - Wikipedia',\n",
       "    'text': 'ボブ・サップ（Bob Sapp、1973年9月22日 - ）は、アメリカ合衆国のキックボクサー、プロレスラー、総合格闘家、タレント、俳優、元アメリカンフットボール選手。コロラド州コロラドスプリングス出身。元はNFL選手であったものの、\\xa0...'},\n",
       "   {'no': 2,\n",
       "    'display_link': 'twitter.com',\n",
       "    'link': 'https://twitter.com/botquiz/status/100627366824525824',\n",
       "    'title': 'botquiz on Twitter: \"格闘家ボブ・サップの出身国はどこでしょう ...',\n",
       "    'text': '2011年8月8日 ... botquiz · @botquiz. abcとクイズロードを15分毎につぶやきます。 Joined June 2011. Tweets. © 2020 Twitter; About · Help Center · Terms · Privacy policy · Cookies · Ads info. Dismiss. Close. Previous. Next. Close. Go to a\\xa0...'},\n",
       "   {'no': 3,\n",
       "    'display_link': 'www.nlp.ecei.tohoku.ac.jp',\n",
       "    'link': 'https://www.nlp.ecei.tohoku.ac.jp/projects/jaqket/',\n",
       "    'title': 'JAQKET:クイズを題材にした日本語QAデータセット',\n",
       "    'text': '\"格闘家ボブ・サップの出身国はどこでしょう?\" answer_entity, 正解Wikipedia記事名, \"アメリカ合衆国\". answer_candidates, 解答候補Wikipedia記事名のリスト\\xa0...'},\n",
       "   {'no': 4,\n",
       "    'display_link': 'quizlet.com',\n",
       "    'link': 'https://quizlet.com/jp/470527690/abc1-flash-cards/',\n",
       "    'title': 'abc1 Flashcards',\n",
       "    'text': '骨川（滑川も正解）. 格闘家ボブ・サップの出身国はどこでしょう？ アメリカ. ロシア語で「城」という意味がある、ロシアの大統領府の別名は何でしょう？ クレムリン. 織田信長、豊臣秀吉、徳川家康という３人の戦国武将の性格を表現するの\\xa0...'},\n",
       "   {'no': 5,\n",
       "    'display_link': 'matome.naver.jp',\n",
       "    'link': 'https://matome.naver.jp/odai/2150556367774508901/2150556659976829803',\n",
       "    'title': 'tweet : クイズ王になりたい人のための解答事典【あま - あん ...',\n",
       "    'text': '2017年9月16日 ... クイズ王になりたい人のための解答事典【あま - あん】 · リストへ戻る · botquiz@botquiz. フォローする. 格闘家ボブ・サップの出身国はどこでしょう？／【アメリカ】. 返信 リツイート いいね 2011.08.09 03:00. 削除. 前へ 次\\xa0...'},\n",
       "   {'no': 6,\n",
       "    'display_link': 'www.kaggle.com',\n",
       "    'link': 'https://www.kaggle.com/takamichitoda/aio-make-token-ids',\n",
       "    'title': 'AIO make token IDs | Kaggle',\n",
       "    'text': 'Jul 14, 2020 ... 0, ABC01-01-0003, 格闘家ボブ・サップの出身国はどこでしょう? アメリカ合衆国, [アメリカ合衆国, ミネソタ州, オンタリオ州, ペンシルベニア州, オレゴン州, ニューヨ... 格闘家ボブ・サップの出身国はどこでしょう？'},\n",
       "   {'no': 7,\n",
       "    'display_link': 'matome.naver.jp',\n",
       "    'link': 'https://matome.naver.jp/odai/2150556367774508901',\n",
       "    'title': 'クイズ王になりたい人のための解答事典【あま - あん】 - NAVER ...',\n",
       "    'text': '2019年10月17日 ... 格闘家ボブ・サップの出身国はどこでしょう？／【アメリカ】. 返信 リツイート いいね ... ドボルザーク作曲の交響曲『新世界より』のタイトルの由来となった「新世界」とは、どこの国のことでしょう？／【アメリカ合衆国】.'},\n",
       "   {'no': 8,\n",
       "    'display_link': 'www.i-remaker.com',\n",
       "    'link': 'https://www.i-remaker.com/4489',\n",
       "    'title': '僕らのビジネス 第三回 「格闘家」ボブ・サップ氏×「iPhone修理屋 ...',\n",
       "    'text': '2017年8月21日 ... ボブ・サップ. bob. 元アメリカンフットボール選手、格闘家、実業家。 元NFLプレーヤーでありながら2002年に日本の ... ちなみにそのiPhoneはもともとどちらのでしょう？ bob ... クロアチアというとミルコの出身国ですね。'},\n",
       "   {'no': 9,\n",
       "    'display_link': 'www.wikiwand.com',\n",
       "    'link': 'https://www.wikiwand.com/ja/%E3%83%9C%E3%83%96%E3%83%BB%E3%82%B5%E3%83%83%E3%83%97',\n",
       "    'title': 'ボブ・サップ - Wikiwand',\n",
       "    'text': 'ボブ・サップ（Bob Sapp、1973年9月22日 - ）は、アメリカ合衆国のキックボクサー、プロレスラー、総合格闘家、タレント、俳優、元アメリカンフットボール選手。 ... なお、ウォーレン・サップはフロリダ州オーランド出身であり、マイアミ大学の卒業生である。 ... これを受けて谷川は1月1日の記者会見の場にて「二度と呼ぶことはないでしょう」と事実上のFEG関連興行からの永久追放を宣言した。'},\n",
       "   {'no': 10,\n",
       "    'display_link': 'quizinvip.playing.wiki',\n",
       "    'link': 'https://quizinvip.playing.wiki/d/%A5%AF%A5%A4%A5%BA%BA%EE%CA%B82001',\n",
       "    'title': 'クイズ作文2001 - 金曜土曜はVIPでクイズやろうぜ公式Wiki',\n",
       "    'text': '2020年2月3日 ... 人（人物名）」および「人っぽいキャラクター名」, →, ～～～【 誰 】でしょう？ ... 場所」（国、州、県、都市、島、建物、駅、組織etc）, →, ～～～【 どこ 】でしょう？ ... 格闘家ボブ・サップの出身国はどこでしょう？'}]}]"
      ]
     },
     "execution_count": 17,
     "metadata": {},
     "output_type": "execute_result"
    }
   ],
   "source": [
    "results[2]"
   ]
  },
  {
   "cell_type": "code",
   "execution_count": 18,
   "metadata": {},
   "outputs": [
    {
     "data": {
      "text/plain": [
       "[{'qid': 4,\n",
       "  'ymd': '20200825',\n",
       "  'question': 'ロシア語で「城」という意味がある、ロシアの大統領府の別名は何でしょう?',\n",
       "  'answer': 'クレムリン',\n",
       "  'documents': [{'no': 1,\n",
       "    'display_link': 'ja.wikipedia.org',\n",
       "    'link': 'https://ja.wikipedia.org/wiki/%E3%82%AF%E3%83%AC%E3%83%A0%E3%83%AA%E3%83%B3',\n",
       "    'title': 'クレムリン - Wikipedia',\n",
       "    'text': \"クレムリン（露：Кремль、Kreml'）は、ロシア連邦の首都、モスクワ市の中心を流れるモスクワ川沿いにある旧ロシア帝国の宮殿。「Kremlin」は、英語やフランス語などでの表記。ソビエト連邦時代にはソ連共産党の中枢が置かれたことから、ソ連共産党の別名としても用いられた。現在もロシア連邦の大統領府や大統領官邸が置かれているため、ロシア政府の代名詞として用いられる。正面には赤の広場がある。 ロシア語では「クレムリ」となり、「城塞」を意味する。 ... された際には、この宮殿のみ鉄筋コンクリートとガラス張りという近代性ゆえに世界遺産の指定対象から外された。\"},\n",
       "   {'no': 2,\n",
       "    'display_link': 'quiz-schedule.info',\n",
       "    'link': 'https://quiz-schedule.info/quiz_no_mori/data/aquiz0050.html',\n",
       "    'title': '問題データ',\n",
       "    'text': '3, 格闘家ボブ・サップの出身国はどこでしょう？ アメリカ. 4, ロシア語で「城」という意味がある、ロシアの大統領府の別名は何でしょう？ クレムリン. 5, 織田信長、豊臣秀吉、徳川家康という３人の戦国武将の性格を表現するのに用いられる\\xa0...'},\n",
       "   {'no': 3,\n",
       "    'display_link': 'quizlet.com',\n",
       "    'link': 'https://quizlet.com/jp/513657403/%E3%82%AF%E3%82%A4%E3%82%BA-%E3%83%99%E3%82%BF%E5%95%8F2-flash-cards/',\n",
       "    'title': 'クイズ ベタ問2 Flashcards | Quizlet',\n",
       "    'text': '杵柄（きねづか）. 野球におけるDH制の「DH」とは、何という言葉の略でしょう？ Disignated Hitter. ロシア語で「城」という意味がある、ロシアの大統領府の別名は何でしょう？ クレムリン. いろはがるたで、江戸の「い」は「犬も歩けば棒\\xa0...'},\n",
       "   {'no': 4,\n",
       "    'display_link': 'search.yahoo.co.jp',\n",
       "    'link': 'https://search.yahoo.co.jp/realtime/search?p=%E5%A4%A7%E7%B5%B1%E9%A0%98%E5%BA%9C&ei=UTF-8&rkf=1',\n",
       "    'title': '「大統領府」のYahoo!検索（リアルタイム） - Twitter（ツイッター ...',\n",
       "    'text': '北朝鮮は、韓国大統領府が、キム・ジョンウン（金正恩）朝鮮労働党委員長を批判するビラを飛ばす行為を徹底的に取り締まるとしたことについて、「 ... ７４問目 ロシア語で「城」という意味がある ロシアの大統領府の別名は何でしょう？'},\n",
       "   {'no': 5,\n",
       "    'display_link': 'qss.quiz-island.site',\n",
       "    'link': 'http://qss.quiz-island.site/abcgo-gacha/49286/',\n",
       "    'title': 'abc / EQIDEN 過去問検索サイト『 abc / EQIDEN Search (β)』',\n",
       "    'text': '行く河の流れは絶えずして、しかも元の水にあらず」という書き出しの、鴨長明の随筆といえば何でしょう？ 正解 : 『方丈記』. abc the ... ロシア語で「城」という意味がある、ロシアの大統領府の別名は何でしょう？ 正解 : クレムリン. abc the\\xa0...'},\n",
       "   {'no': 6,\n",
       "    'display_link': 'www8.cao.go.jp',\n",
       "    'link': 'https://www8.cao.go.jp/hoppo/mondai_ima/hoppou_q-a.html',\n",
       "    'title': '北方領土問題～今～ 7．北方領土をめぐるご質問にお答えします ...',\n",
       "    'text': 'Q1 「北方四島」とはどこに位置し、何という島々ですか？面積や ... 我が国固有の領土である北方領土には，現在もロシアが法的根拠なく占拠しています。 ... 日本はロシアより早く、北方四島（択捉島、国後島、色丹島及び歯舞群島）の存在を知り、多くの日本人がこの地域に渡航する ... ソ連崩壊後の1993年10月、訪日したロシアのエリツィン大統領と細川護熙総理との間で署名された文書のことです。'},\n",
       "   {'no': 7,\n",
       "    'display_link': 'qss.quiz-island.site',\n",
       "    'link': 'http://qss.quiz-island.site/abcgo-gacha/49752/',\n",
       "    'title': 'abc / EQIDEN 過去問検索サイト『 abc / EQIDEN Search (β)』',\n",
       "    'text': 'フランス語で「新しい波」という意味がある、1950年代後半からフランスで起こった新しい映画の傾向を何というでしょう？ 正解 : ヌーベル・バーグ ... 別名を「むささびシュート」という、ハンドボールで倒れこみながら打つシュートのことを何というでしょう？ 正解 : プロンジョン ... ロシア語で「城塞(じょうさい)」を意味する、ロシア大統領府があるモスクワの宮殿は何でしょう？ 正解 : クレムリン.'},\n",
       "   {'no': 8,\n",
       "    'display_link': 'www2.jiia.or.jp',\n",
       "    'link': 'http://www2.jiia.or.jp/pdf/resarch/h21_russian/russian-20100331.pdf',\n",
       "    'title': 'ロシアの政策決定',\n",
       "    'text': '2010年3月31日 ... 政治・経済の両面で国際社会における存在感を増してきたと言えるでしょう。しかしそ ... ロシアでの APEC 開催への取り組みといった広範なテーマに関して、政策決定という視 ... いるモルドヴァにおけるロシア人、もしくは｢ロシア語使用住民｣（以下、ロ ... 大統領府の影響力が増したことを意味する。 ... のは、「シロヴィキ」と大統領府の上層部がそこに常に加わったからである18。 結び ... 長官の任期は、プーチン時代には、8年間に長官3人とひじょうな安定を見せ.'},\n",
       "   {'no': 9,\n",
       "    'display_link': 'abc-dive.com',\n",
       "    'link': 'http://abc-dive.com/questions/abc11th_EQIDEN2013.pdf',\n",
       "    'title': 'abc the11th abc the11th 主催： abc the11th abc the11th ...',\n",
       "    'text': '2013年3月24日 ... 「a」「b」「c」を並べ替えてできる、タクシーを意味する英単語は何でしょう？ cab. 2. 詩集『月 ... 乳がん. 39. アメリカ大統領のバラク・オバマが、2008 年の選挙で破った相手はジョン・マケインで ... 代のロシアで起きた大規模な農民反乱は何でしょう？ プガチョフの ... 眉をひそめる」という意味がある二字熟語で、人に嫌な顔をされ軽蔑されるときに. 「買う」 ... 17. 166. 「北米のパリ」といえばモントリオールの別名ですが、「南米のパリ」という別名を持つ、.'},\n",
       "   {'no': 10,\n",
       "    'display_link': 'www.ne.jp',\n",
       "    'link': 'http://www.ne.jp/asahi/cccp/camera/HoppouRyoudo/Yasashii.htm',\n",
       "    'title': '北方領土問題－やさしい北方領土のはなし',\n",
       "    'text': 'ふつうは、国の名前は英語でRussiaと書いて、それ以外はロシア語で書くのが良いでしょう。 ... 右側は、わかりやすいように日本語で意味を書きましたが、手紙のあて名は左のように書いきます。 ... しかし、北方領土にあるロシアの会社で、日本人が働いていることがあるので、こういう人たちが、北方領土に住んでいることがあるはずです ... この時、ロシア大統領は歯舞・色丹の2島返還で決着しようとしたため、日本に返還予定の色丹島に投資をしなかったとの見方がありました。'}]}]"
      ]
     },
     "execution_count": 18,
     "metadata": {},
     "output_type": "execute_result"
    }
   ],
   "source": [
    "results[3]"
   ]
  },
  {
   "cell_type": "code",
   "execution_count": 19,
   "metadata": {},
   "outputs": [
    {
     "data": {
      "text/plain": [
       "[{'qid': 5,\n",
       "  'ymd': '20200825',\n",
       "  'question': '織田信長、豊臣秀吉、徳川家康という3人の戦国武将の性格を表現するのに用いられる鳥は何でしょう?',\n",
       "  'answer': 'ホトトギス',\n",
       "  'documents': [{'no': 1,\n",
       "    'display_link': 'twitter.com',\n",
       "    'link': 'https://twitter.com/botquiz/status/290529936454844418',\n",
       "    'title': 'botquiz on Twitter: \"織田信長、豊臣秀吉、徳川家康という3人の戦国 ...',\n",
       "    'text': 'Embed Tweet. 織田信長、豊臣秀吉、徳川家康という３人の戦国武将の性格を表現するのに用いられる鳥は何でしょう？／【ホトトギス】. 10:45 AM - 13 Jan 2013. 0 replies 0 retweets 0 likes. Reply. Retweet. Retweeted. Like. Liked. Back to\\xa0...'},\n",
       "   {'no': 2,\n",
       "    'display_link': 'quizlet.com',\n",
       "    'link': 'https://quizlet.com/jp/470527690/abc1-flash-cards/',\n",
       "    'title': 'abc1 Flashcards',\n",
       "    'text': '格闘家ボブ・サップの出身国はどこでしょう？ アメリカ. ロシア語で「城」という意味がある、ロシアの大統領府の別名は何でしょう？ クレムリン. 織田信長、豊臣秀吉、徳川家康という３人の戦国武将の性格を表現するのに用いられる鳥は\\xa0...'},\n",
       "   {'no': 3,\n",
       "    'display_link': 'matome.naver.jp',\n",
       "    'link': 'https://matome.naver.jp/odai/2149430547423419401/2150652480560008203',\n",
       "    'title': 'tweet : クイズ王になりたい人のための問題集【鳥】 - NAVER まとめ',\n",
       "    'text': '2017年9月28日 ... 織田信長、豊臣秀吉、徳川家康という３人の戦国武将の性格を表現するのに用いられる鳥は何でしょう？／【ホトトギス】. 返信 リツイート いいね 2013.01.14 03:45. 削除. 前へ 次へ · はてなの虹さん; | 2017.09.28\\xa0...'},\n",
       "   {'no': 4,\n",
       "    'display_link': 'ja.wikipedia.org',\n",
       "    'link': 'https://ja.wikipedia.org/wiki/%E4%B8%89%E8%8B%B1%E5%82%91',\n",
       "    'title': '三英傑 - Wikipedia',\n",
       "    'text': '三英傑（さんえいけつ）、もしくは郷土三英傑、戦国三英傑は、現在の愛知県（当時は尾張国と三河国）出身で名古屋にゆかりがあり、戦国時代において天下を統一へ導いた下記3人の戦国大名について、主に後世（#成立を参照）において中部地方や愛知県で顕彰する呼称。口語では戦国の三傑が用いられる。名古屋まつりでは毎年、この3人にちなんで郷土英傑行列が行われている。 三英傑 ... 当時三英傑という呼称は無かったものの、天下人の座を受け継いだ三人を一まとめにする考え方は江戸時代から存在\\xa0...'},\n",
       "   {'no': 5,\n",
       "    'display_link': 'matome.naver.jp',\n",
       "    'link': 'https://matome.naver.jp/odai/2150393701637177101/2150565176122778103',\n",
       "    'title': 'tweet : クイズ王になりたい人のための解答事典【ほ - ほん ...',\n",
       "    'text': '2017年9月17日 ... 織田信長、豊臣秀吉、徳川家康という３人の戦国武将の性格を表現するのに用いられる鳥は何でしょう？／【ホトトギス】. 返信 リツイート いいね 2013.01.14 03:45. 削除. 前へ 次へ · はてなの虹さん; | 2017.09.17\\xa0...'},\n",
       "   {'no': 6,\n",
       "    'display_link': 'mapre.ch',\n",
       "    'link': 'http://mapre.ch/forum/7bunel.php?id=%E3%83%9B%E3%83%88%E3%83%88%E3%82%AE%E3%82%B9-%E3%82%92-%E6%BC%A2%E5%AD%97-%E3%81%A7-%E6%9B%B8%E3%81%8F-fdcb9c',\n",
       "    'title': 'ホトトギス を 漢字 で 書く',\n",
       "    'text': '霍公鳥」「杜宇」「蜀魂」「不如帰」「子規」「田鵑」などと書くこともあります。 ... 鳴き声が特徴なウグイスとホトトギスですが、見た目や生態は大きく異なるということがおわかりいただけたでしょうか。 ... また、「鳴かぬなら〜」で始まる句は、鳴かないホトトギスをどう扱うかで信長・秀吉・家康の3人の性格を表した俳句として有名ですね。 ... 聴きたくて、徹夜して待つ人が詠われており、他にも、仙谷さん大武将の織田信長や豊臣秀吉、徳川家康とそれぞれがホトトギスを\\xa0...'},\n",
       "   {'no': 7,\n",
       "    'display_link': 'matome.naver.jp',\n",
       "    'link': 'https://matome.naver.jp/odai/2149430547423419401?page=6',\n",
       "    'title': 'クイズ王になりたい人のための問題集【鳥】 - NAVER まとめ',\n",
       "    'text': '2019年10月17日 ... 英語では「ハミングバード」という、中南米に生息する世界最小の鳥といえば何でしょう？／【ハチドリ】 ... 織田信長、豊臣秀吉、徳川家康という３人の戦国武将の性格を表現するのに用いられる鳥は何でしょう？'},\n",
       "   {'no': 8,\n",
       "    'display_link': 'qss.quiz-island.site',\n",
       "    'link': 'http://qss.quiz-island.site/abcgo-gacha/49286/',\n",
       "    'title': 'abc / EQIDEN 過去問検索サイト『 abc / EQIDEN Search (β)』',\n",
       "    'text': '3. 春の七草で「すずな」といえば蕪のことですが、「すずしろ」といえば何のことでしょう？ 正解 : 大根. abc the first (2003) ペーパー ... 織田信長、豊臣秀吉、徳川家康という3人の戦国武将の性格を表現するのに用いられる鳥は何でしょう？'},\n",
       "   {'no': 9,\n",
       "    'display_link': 'rekishizuki.com',\n",
       "    'link': 'https://rekishizuki.com/archives/873',\n",
       "    'title': '戦国大名 徳川家康のこんな性格が天下を取らせた！ホント？ – 歴史 ...',\n",
       "    'text': '2017年2月20日 ... 3 『三方が原の戦い』で、敗走する時に家康がウンチをもらしたのはホント？ ... 戦国時代の後半に活躍した歴史上著名なこの天下人3名が、なぜか3名とも今の愛知県の出身（信長ー名古屋市中区、 ... こんな『鳴くまで待とう』と表現されるのは、織田信長とは”同盟者”、”弟分”として働き、豊臣秀吉の時は妥協してその ... しかし、伝えられる実際の徳川家康の性格としては、前述の川柳のようなのんびりとした性格ではなくて、非常に”短気”だったと言われています。 人\\xa0...'},\n",
       "   {'no': 10,\n",
       "    'display_link': 'rekishiplus.com',\n",
       "    'link': 'https://rekishiplus.com/?mode=f3',\n",
       "    'title': '【兜特集】人気武将兜の種類を紹介！前立てに込めた意味とは ...',\n",
       "    'text': '織田信長」の兜には、鳥の巣と神の御加護を表す「木瓜紋」と「御簾」。 ... なかでも歴史に名を連ねる名将たちは、頭部を守るという防具の意味以上に、戦場で目立ち、威厳や地位を誇示するため自ら ... 平安時代以降の兜に取り付けられるようになった兜の装飾物。 ... 伊達政宗は、故郷東北から天下統一を狙って領土を広げていましたが、当時西側から勢力を拡大していた豊臣秀吉から臣従 ... 大阪冬の陣で活躍し、「日本一の兵」とも讃えられた、戦国時代を代表する武将、真田幸村。'}]}]"
      ]
     },
     "execution_count": 19,
     "metadata": {},
     "output_type": "execute_result"
    }
   ],
   "source": [
    "results[4]"
   ]
  },
  {
   "cell_type": "code",
   "execution_count": null,
   "metadata": {},
   "outputs": [],
   "source": []
  }
 ],
 "metadata": {
  "kernelspec": {
   "display_name": "Python 3",
   "language": "python",
   "name": "python3"
  },
  "language_info": {
   "codemirror_mode": {
    "name": "ipython",
    "version": 3
   },
   "file_extension": ".py",
   "mimetype": "text/x-python",
   "name": "python",
   "nbconvert_exporter": "python",
   "pygments_lexer": "ipython3",
   "version": "3.7.3"
  }
 },
 "nbformat": 4,
 "nbformat_minor": 4
}
