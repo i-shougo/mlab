{
 "cells": [
  {
   "cell_type": "code",
   "execution_count": 2,
   "metadata": {},
   "outputs": [
    {
     "name": "stdout",
     "output_type": "stream",
     "text": [
      "Python 3.7.3\n"
     ]
    }
   ],
   "source": [
    "!python -V"
   ]
  },
  {
   "cell_type": "markdown",
   "metadata": {},
   "source": [
    "# Google スニペットを入手しよう"
   ]
  },
  {
   "cell_type": "markdown",
   "metadata": {},
   "source": [
    "参考： https://qiita.com/zak_y/items/42ca0f1ea14f7046108c#comments"
   ]
  },
  {
   "cell_type": "code",
   "execution_count": 1,
   "metadata": {},
   "outputs": [],
   "source": [
    "# 関数定義\n",
    "import os\n",
    "import datetime\n",
    "import json\n",
    "\n",
    "from time import sleep\n",
    "from googleapiclient.discovery import build\n",
    "\n",
    "GOOGLE_API_KEY          = \"xxxxxxxxxxxxxxxxxxxxxxxxxxxxxxxxxxxxxxx\"\n",
    "CUSTOM_SEARCH_ENGINE_ID = \"000000000000000000000:xxxxxxxxxxx\"\n",
    "\n",
    "DATA_DIR = 'data'\n",
    "\n",
    "def makeDir(path):\n",
    "    if not os.path.isdir(path):\n",
    "        os.mkdir(path)\n",
    "\n",
    "def get_data(qid, query, answer, dnum=10):# dnum:データ数.1page目の上から取ってくる数を指定． この引数を持つ関数にしたい．\n",
    "    today = datetime.datetime.today().strftime(\"%Y%m%d\")\n",
    "    timestamp = datetime.datetime.today().strftime(\"%Y/%m/%d %H:%M:%S\")\n",
    "\n",
    "    makeDir(DATA_DIR)# 関数の中から外の変数は見れる\n",
    "\n",
    "    service = build(\"customsearch\", \"v1\", developerKey=GOOGLE_API_KEY) # このインスタンスが， どんなことできるのか知りたい\n",
    "\n",
    "    page_limit = 1# どうやら，一度に10件までしかデータを取得できないみたいなので，forを回す必要がある．\n",
    "    start_index = 1# データを取得し始めるindex. 1なので，頭から．\n",
    "    response = []\n",
    "    for n_page in range(0, page_limit):\n",
    "        try:# 例外を捉える部分．Errorが無ければそのまま実行．あれば exceptへ．\n",
    "            sleep(1)# 1秒待つ．何故必要かは不明．\n",
    "            response.append(service.cse().list(# responseにデータを格納.\n",
    "                q=query,\n",
    "                cx=CUSTOM_SEARCH_ENGINE_ID,\n",
    "                lr='lang_ja',\n",
    "                num=dnum,# データ数. [1,10].\n",
    "                start=start_index\n",
    "            ).execute())\n",
    "            start_index = response[n_page].get(\"queries\").get(\"nextPage\")[0].get(\"startIndex\")\n",
    "        except Exception as e:\n",
    "            print(e)\n",
    "            break\n",
    "    \n",
    "    # レスポンスをjson形式で保存\n",
    "    save_response_dir = os.path.join(DATA_DIR, 'response')\n",
    "    makeDir(save_response_dir)\n",
    "    out = {'snapshot_ymd': today, 'snapshot_timestamp': timestamp, 'answer': answer, 'response': []}\n",
    "    out['response'] = response\n",
    "    jsonstr = json.dumps(out, ensure_ascii=False)\n",
    "    with open(os.path.join(save_response_dir, 'qid_' + str(qid) + '.json'), mode='w') as response_file:\n",
    "        response_file.write(jsonstr)\n",
    "        \n",
    "def make_data(qid):\n",
    "    #today = datetime.datetime.today().strftime(\"%Y%m%d\")\n",
    "\n",
    "    response_filename = os.path.join(DATA_DIR, 'response', 'qid_' + str(qid) + '.json')\n",
    "    with open(response_filename, 'r') as response_file:\n",
    "        response_json = response_file.read()\n",
    "        response_tmp = json.loads(response_json)\n",
    "        ymd = response_tmp['snapshot_ymd']\n",
    "        response = response_tmp['response']\n",
    "    \n",
    "    results = []\n",
    "    cnt = 0\n",
    "    for one_res in range(len(response)):# len(*)は,qidにつき1.あんまり意味ない．qidにつき11件以上データ取ったらそうでもない？\n",
    "        if 'items' in response[one_res] and len(response[one_res]['items']) > 0:\n",
    "            #print(response[one_res]['queries']['request'][0]['searchTerms'])\n",
    "            answer = response_tmp['answer']# 僕の書き方依存\n",
    "            question  = response[one_res]['queries']['request'][0]['searchTerms']\n",
    "            results.append({'qid': qid, 'ymd': ymd, 'question': question, 'answer': answer, 'documents': []})#'title': title, 'link': link, 'snippet': snippet}) \n",
    "            for i in range(len(response[one_res]['items'])):\n",
    "                cnt += 1\n",
    "                display_link = response[one_res]['items'][i]['displayLink']\n",
    "                title        = response[one_res]['items'][i]['title']\n",
    "                link         = response[one_res]['items'][i]['link']\n",
    "                snippet      = response[one_res]['items'][i]['snippet'].replace('\\n', '')\n",
    "                #print(results[one_res]['documents'])\n",
    "                results[one_res]['documents'].append({'no': cnt, 'display_link': display_link, 'link': link, 'title': title, 'text': snippet})\n",
    "                #results.append({'no': cnt, 'ymd': ymd, 'display_link': display_link, 'link': link, 'documents': [{'title': tilte, 'text': snippet}]})#'title': title, 'link': link, 'snippet': snippet}) \n",
    "    save_results_dir = os.path.join(DATA_DIR, 'results')\n",
    "    makeDir(save_results_dir)\n",
    "    \n",
    "    # レスポンスをjson形式で保存\n",
    "    jsonstr = json.dumps(results, ensure_ascii=False)\n",
    "    with open(os.path.join(save_results_dir, 'qid_' + str(qid) + '.json'), mode='w') as results_file:\n",
    "        results_file.write(jsonstr)"
   ]
  },
  {
   "cell_type": "markdown",
   "metadata": {},
   "source": [
    "## (q,a)取得"
   ]
  },
  {
   "cell_type": "code",
   "execution_count": 2,
   "metadata": {},
   "outputs": [],
   "source": [
    "import gzip\n",
    "import json\n",
    "\n",
    "dataset = []\n",
    "with gzip.open(\"dataset/all-v1.0.json.gz\", \"rt\", encoding=\"utf-8\") as fp:\n",
    "    for line in fp:\n",
    "        data = json.loads(line)\n",
    "        if data[\"documents\"]:\n",
    "            dataset.append(data)"
   ]
  },
  {
   "cell_type": "markdown",
   "metadata": {},
   "source": [
    "## Googleスニペットを入手\n",
    "3月-11月は16時がリセットタイミングらしい． 1query 10 件データ取ってくるなら， 100query/day. "
   ]
  },
  {
   "cell_type": "code",
   "execution_count": 3,
   "metadata": {},
   "outputs": [
    {
     "data": {
      "text/plain": [
       "428"
      ]
     },
     "execution_count": 3,
     "metadata": {},
     "output_type": "execute_result"
    }
   ],
   "source": [
    "start = 400\n",
    "dataset[start]['qid']"
   ]
  },
  {
   "cell_type": "code",
   "execution_count": 4,
   "metadata": {},
   "outputs": [
    {
     "name": "stdout",
     "output_type": "stream",
     "text": [
      "'NoneType' object is not subscriptable\n"
     ]
    }
   ],
   "source": [
    "hoge# うっかり実行しないようにhoge\n",
    "for i in range(start, start + 100):\n",
    "    qid, q, a = dataset[i]['qid'], dataset[i]['question'], dataset[i]['answer']\n",
    "    get_data(qid, q, a)"
   ]
  },
  {
   "cell_type": "code",
   "execution_count": 39,
   "metadata": {},
   "outputs": [],
   "source": [
    "# 取得したデータを確認\n",
    "def view_data(qid):\n",
    "    dataset = []\n",
    "    save_response_dir = os.path.join(DATA_DIR, 'response')\n",
    "    with open(os.path.join(save_response_dir, 'qid_' + str(qid) + '.json'), mode='r') as fp:\n",
    "        for line in fp:\n",
    "            data = json.loads(line)\n",
    "            dataset.append(data)\n",
    "        return dataset"
   ]
  },
  {
   "cell_type": "markdown",
   "metadata": {},
   "source": [
    "## 加工整形処理"
   ]
  },
  {
   "cell_type": "markdown",
   "metadata": {},
   "source": [
    "qid が連続じゃないので，元データのファイルの読み込みに，少し工夫が必要になった"
   ]
  },
  {
   "cell_type": "code",
   "execution_count": 3,
   "metadata": {},
   "outputs": [
    {
     "data": {
      "text/plain": [
       "12"
      ]
     },
     "execution_count": 3,
     "metadata": {},
     "output_type": "execute_result"
    }
   ],
   "source": [
    "start = 10\n",
    "dnum = 90\n",
    "dataset[start]['qid']"
   ]
  },
  {
   "cell_type": "code",
   "execution_count": 4,
   "metadata": {},
   "outputs": [],
   "source": [
    "hoge #うっかり実行しないようにhgoe\n",
    "for i in range(start, start + dnum):\n",
    "    make_data(dataset[i]['qid'])"
   ]
  },
  {
   "cell_type": "markdown",
   "metadata": {},
   "source": [
    "## 取得したデータを確認"
   ]
  },
  {
   "cell_type": "code",
   "execution_count": 5,
   "metadata": {},
   "outputs": [],
   "source": [
    "#DATA_DIR = 'data'\n",
    "save_response_dir = os.path.join(DATA_DIR, 'results')\n",
    "results = []\n",
    "qid = 1\n",
    "with open(os.path.join(save_response_dir, 'qid_' + str(qid) + '.json'), mode='r') as fp:\n",
    "    for line in fp:\n",
    "        result = json.loads(line)\n",
    "        results.append(result)"
   ]
  },
  {
   "cell_type": "markdown",
   "metadata": {},
   "source": [
    "データを見てみて\n",
    "- snippet の末には \\xa0... がある．\n",
    "- 自分で Google 検索を行った結果と少し異なる．サイトの表示順が違った．APIの検索方法とかは調べた方が良さそう．\n",
    "- スニペットの選択方法が気になる．\n",
    "- クエリに対して，何件スニペットを取ってくるかは未定(今回なら10件だけ取ってきた．取得したコードのページ1とした部分.1ページに表示されるサイト数は10件)"
   ]
  },
  {
   "cell_type": "code",
   "execution_count": 55,
   "metadata": {},
   "outputs": [
    {
     "data": {
      "text/plain": [
       "dict_keys(['qid', 'ymd', 'question', 'answer', 'documents'])"
      ]
     },
     "execution_count": 55,
     "metadata": {},
     "output_type": "execute_result"
    }
   ],
   "source": [
    "results[0][0].keys() # results[1][2]. 1:qid, 2:qidに対応するデータ.10件以上とると，index:0以外も使う．"
   ]
  },
  {
   "cell_type": "code",
   "execution_count": 6,
   "metadata": {},
   "outputs": [
    {
     "data": {
      "text/plain": [
       "10"
      ]
     },
     "execution_count": 6,
     "metadata": {},
     "output_type": "execute_result"
    }
   ],
   "source": [
    "a =results[0][0]['documents']\n",
    "len(a)"
   ]
  },
  {
   "cell_type": "code",
   "execution_count": 9,
   "metadata": {},
   "outputs": [
    {
     "data": {
      "text/plain": [
       "{'no': 1,\n",
       " 'display_link': 'www.neomag.jp',\n",
       " 'link': 'https://www.neomag.jp/mag_navi/column/column005.html',\n",
       " 'title': '磁石ナビ | 磁石につく金属の種類と関係性について | 磁石のお話',\n",
       " 'text': '磁石につく最も身近な金属は鉄です。鉄のほかには、ニッケルやコバルトなどが挙げられます。ステンレスにも磁石がつきますが、これは中に含まれ\\xa0...'}"
      ]
     },
     "execution_count": 9,
     "metadata": {},
     "output_type": "execute_result"
    }
   ],
   "source": [
    "a[0] "
   ]
  },
  {
   "cell_type": "code",
   "execution_count": 51,
   "metadata": {},
   "outputs": [
    {
     "data": {
      "text/plain": [
       "[{'qid': 1,\n",
       "  'ymd': '20200823',\n",
       "  'question': '鉄にくっつく物体',\n",
       "  'answer': '磁石',\n",
       "  'documents': [{'no': 1,\n",
       "    'display_link': 'www.neomag.jp',\n",
       "    'link': 'https://www.neomag.jp/mag_navi/column/column005.html',\n",
       "    'title': '磁石ナビ | 磁石につく金属の種類と関係性について | 磁石のお話',\n",
       "    'text': '磁石につく最も身近な金属は鉄です。鉄のほかには、ニッケルやコバルトなどが挙げられます。ステンレスにも磁石がつきますが、これは中に含まれ\\xa0...'},\n",
       "   {'no': 2,\n",
       "    'display_link': 'www.try-it.jp',\n",
       "    'link': 'https://www.try-it.jp/chapters-1521/sections-1522/lessons-1523/practice-4/',\n",
       "    'title': '【中1理科】「金属の3つの性質」(練習編) | 映像授業のTry IT ...',\n",
       "    'text': '磁石にくっつくのは、金属のうち鉄だけ. 中１ 理科化学1 練習(2) 答えなし. lecturer_avatar. (2)は、それぞれの 物体 が電気を通すかどうかと、磁石につくかどうかを答える問題です。 金属に共通する性質として、 伝導性 というものがありま\\xa0...'},\n",
       "   {'no': 3,\n",
       "    'display_link': 'www.neomag.jp',\n",
       "    'link': 'https://www.neomag.jp/mag_navi/column/column018.html',\n",
       "    'title': '磁石ナビ | 磁石の磁力を遮断する方法とは | 磁石のお話',\n",
       "    'text': '例えば、磁石と鉄をくっつけると、鉄も磁石の力を帯びて釘などを引きつけるようになります。しかし、磁石を鉄から引き剥がせば、鉄は元に戻り、釘を近づけてもくっつくことはありません。これが軟磁性\\xa0...'},\n",
       "   {'no': 4,\n",
       "    'display_link': 'www.magnetics.jp',\n",
       "    'link': 'https://www.magnetics.jp/tech-info/b_magnet/',\n",
       "    'title': '磁石（初級）',\n",
       "    'text': '2014年3月13日 ... 引き寄せる物体は磁性があるとします）. Answer. Q 1. どうして磁石に鉄がつくのですか？ A 1. 鉄やコバルトなどは強磁性体と呼ばれており、原子そのものは永久磁石になっています。しかしながら、それら原子はいくつかの\\xa0...'},\n",
       "   {'no': 5,\n",
       "    'display_link': 'site.ngk.co.jp',\n",
       "    'link': 'https://site.ngk.co.jp/lab/no37/',\n",
       "    'title': 'ふにゃふにゃと磁石で動く不思議な物体 ｜ 自由研究におすすめ ...',\n",
       "    'text': '磁石にくっつく鉄を細かくして粉をつくり、スライムに混ぜると、磁石に吸い寄せられるスライムができます。 他の実験を探す; 準備するもの. もしこの実験が気に入ったらシェアしてください.'},\n",
       "   {'no': 6,\n",
       "    'display_link': 'citizen.jp',\n",
       "    'link': 'https://citizen.jp/support-jp/manual/terms/deeper_06b.html',\n",
       "    'title': 'シチズンサポート',\n",
       "    'text': '鉄がくっつくもの？N極とS極 ... 不思議なことに、鉄にくっつけると、その鉄も磁石のようになるのでした。 ... 電磁誘導現象とは、磁場の強さや方向が変化する場所に電気を通す物体を置くと、その物体内部に電流が流れる、という現象です。'},\n",
       "   {'no': 7,\n",
       "    'display_link': 'www.ai-mart.jp',\n",
       "    'link': 'https://www.ai-mart.jp/magsheet/%E7%A3%81%E7%9F%B3%E3%81%AE%E7%A7%98%E5%AF%86%E3%80%82%E3%81%AA%E3%81%9C%E7%A3%81%E7%9F%B3%E3%81%AF%E9%89%84%E3%81%A8%E3%81%8F%E3%81%A3%E3%81%A4%E3%81%8F%E3%81%AE%EF%BC%9F/',\n",
       "    'title': '磁石の秘密。なぜ磁石は鉄とくっつくの？｜アイマート',\n",
       "    'text': '鉄には磁石となり得る原子を持っていますが、源氏の向きがバラバラであるために鉄だけでは磁石としては機能しません。 しかし磁石に近づけることによって鉄の中の磁区が反応し、くっつきます。鉄以外にも磁石とくっつく素材はあるの\\xa0...'},\n",
       "   {'no': 8,\n",
       "    'display_link': 'kids.gakken.co.jp',\n",
       "    'link': 'https://kids.gakken.co.jp/kagaku/kagaku110/science0573/',\n",
       "    'title': 'じしゃくはどうして（鉄に）くっつくの | 理科の実験 | 科学なぜなぜ ...',\n",
       "    'text': '磁石は鉄でできています。もちろんふつうの棒磁石（ぼうじしゃく）も、鉄からできています。それではここで、1本の棒磁石を使って考えてみましょう。'},\n",
       "   {'no': 9,\n",
       "    'display_link': 'www.fdtext.com',\n",
       "    'link': 'http://www.fdtext.com/dp/r1k/sr1_k1_busitu_01.pdf',\n",
       "    'title': '【FdData 中間期末：中学理科1 年化学】 [金属と非金属] パソコン ...',\n",
       "    'text': '[物体と物質]. [問題](前期中間改). かんやコップなど，使う目的や形など. でものを区別するとき，それらを. ①(物質／ ... (鉄以外. で磁石につくのは，ニッケルやコバルト. やステンレスなど限られた金属である). ※この単元で出題頻度が高いのは「\\xa0...'},\n",
       "   {'no': 10,\n",
       "    'display_link': 'www.technologyreview.jp',\n",
       "    'link': 'https://www.technologyreview.jp/s/192282/heres-how-long-the-coronavirus-can-live-in-the-air-and-on-packages/',\n",
       "    'title': '新型コロナはダンボールに1日残存、吊革も感染 ... - MIT Tech Review',\n",
       "    'text': '2020年3月14日 ... 米国立衛生研究所（NIH）の研究チームは、ダンボールや鉄、プラスチックなどさまざまな素材の上でウイルス ... 私たちの身近にある物体に留まることができるウイルスや細菌は多いが、新型コロナウイルスの残存の仕組みに\\xa0...'}]}]"
      ]
     },
     "execution_count": 51,
     "metadata": {},
     "output_type": "execute_result"
    }
   ],
   "source": [
    "# データ確認\n",
    "results[0]"
   ]
  }
 ],
 "metadata": {
  "kernelspec": {
   "display_name": "Python 3",
   "language": "python",
   "name": "python3"
  },
  "language_info": {
   "codemirror_mode": {
    "name": "ipython",
    "version": 3
   },
   "file_extension": ".py",
   "mimetype": "text/x-python",
   "name": "python",
   "nbconvert_exporter": "python",
   "pygments_lexer": "ipython3",
   "version": "3.7.3"
  }
 },
 "nbformat": 4,
 "nbformat_minor": 4
}
