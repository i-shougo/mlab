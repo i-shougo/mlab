{
 "cells": [
  {
   "cell_type": "markdown",
   "metadata": {},
   "source": [
    "# RCQAの調査"
   ]
  },
  {
   "cell_type": "markdown",
   "metadata": {},
   "source": [
    "## データ読み込み と 基本的な情報"
   ]
  },
  {
   "cell_type": "markdown",
   "metadata": {},
   "source": [
    "論文によると，\n",
    "- q の異なり数：12063\n",
    "- (q,a)の数：12591\n",
    "- (q,a,d)の数：54958\n",
    "\n",
    "実際にデータ見てみると\n",
    "- q の異なり数：12055\n",
    "- (q,a)の数：12086\n",
    "- (q,a,d)の数：56651"
   ]
  },
  {
   "cell_type": "code",
   "execution_count": 1,
   "metadata": {},
   "outputs": [],
   "source": [
    "import gzip\n",
    "import json\n",
    "\n",
    "dataset = []\n",
    "with gzip.open(\"dataset/all-v1.0.json.gz\", \"rt\", encoding=\"utf-8\") as fp:\n",
    "    for line in fp:\n",
    "        data = json.loads(line)\n",
    "        if data[\"documents\"]:\n",
    "            dataset.append(data)"
   ]
  },
  {
   "cell_type": "code",
   "execution_count": 2,
   "metadata": {},
   "outputs": [
    {
     "data": {
      "text/plain": [
       "12086"
      ]
     },
     "execution_count": 2,
     "metadata": {},
     "output_type": "execute_result"
    }
   ],
   "source": [
    "len(dataset)"
   ]
  },
  {
   "cell_type": "code",
   "execution_count": 3,
   "metadata": {},
   "outputs": [
    {
     "name": "stdout",
     "output_type": "stream",
     "text": [
      "56651\n"
     ]
    }
   ],
   "source": [
    "sum = 0\n",
    "for i in range(len(dataset)):\n",
    "    sum = sum + len(dataset[i][\"documents\"])\n",
    "print(sum)"
   ]
  },
  {
   "cell_type": "code",
   "execution_count": 9,
   "metadata": {},
   "outputs": [
    {
     "data": {
      "text/plain": [
       "{'qid': 12591,\n",
       " 'competition': 'EQIDEN_2010',\n",
       " 'timestamp': '2010/03/21',\n",
       " 'format': '早押し',\n",
       " 'question': '主に中華料理の点心などで用いられる、竹や木を編んで作られる蒸し専用の調理器具は何でしょう?',\n",
       " 'answer': '蒸籠',\n",
       " 'documents': [{'title': '蒸籠',\n",
       "   'text': '蒸籠、または蒸篭（せいろ、せいろう）は、竹や木を編んで作られた蒸し料理用の調理器具。',\n",
       "   'score': 4},\n",
       "  {'title': '蒸籠蒸し',\n",
       "   'text': '蒸籠蒸しという調理法でもっとも広く作られているものとしては饅頭がある。饅頭を含めた中華料理の点心には蒸籠で蒸すものが多く、皿に乗せた肉や魚も蒸籠で蒸す手法を使う事がある。',\n",
       "   'score': 0},\n",
       "  {'title': '蒸籠',\n",
       "   'text': '沸騰した湯の入った鍋（中華鍋や円付鍋）などの上に置き、内部に加熱された水蒸気を通すことで食材を加熱調理する。調理するものによってさまざまな大きさのものがある。さらに蒸籠は構造によって中華蒸籠と和蒸籠に分類される。中華蒸籠は竹で編まれた底とふたが一体になっているのに対し、和蒸籠は底の部分が着脱可能なすのこになっているものが多い。その名が示すとおり、通常中華蒸籠は中華料理（主に点心）、和蒸籠は和食に用いられるが、基本的な構造や使用法は変わらないため、どちらをどちらに使っても支障はない。和蒸籠には四角いものも多い。',\n",
       "   'score': 3},\n",
       "  {'title': '蒸し物',\n",
       "   'text': '蒸す際にはあらかじめ鍋で水を沸騰させて蒸し湯を作り、その鍋の上に加熱したい食材を入れた蒸籠を置く。湯気を絶えず充満させるため、水は常に加熱し、蒸籠には蓋をしたままにしておく。中華まん、シュウマイなどの点心はこの方法で蒸されることが多い。蒸篭の蓋は竹や木を編んだものであり湯気が抜けやすく、必要以上に湯気をこもらせて食材をびしょびしょにしてしまうことが起こりにくい特長がある。',\n",
       "   'score': 3},\n",
       "  {'title': '蒸籠蒸し',\n",
       "   'text': '蒸籠蒸し（せいろむし）は、蒸籠に食品を入れ、下から水蒸気を通す事によって、蒸して加熱をする調理法。または、その調理法で作った料理。',\n",
       "   'score': 0}]}"
      ]
     },
     "execution_count": 9,
     "metadata": {},
     "output_type": "execute_result"
    }
   ],
   "source": [
    "dataset[len(dataset)-1] # qidが歯抜けなことが分かる"
   ]
  },
  {
   "cell_type": "markdown",
   "metadata": {},
   "source": [
    "## qid は一意か"
   ]
  },
  {
   "cell_type": "code",
   "execution_count": null,
   "metadata": {},
   "outputs": [],
   "source": [
    "# qid が被ってることはなさそう\n",
    "a = []\n",
    "for i in range(len(dataset)):\n",
    "    if dataset[i][\"qid\"] in a:\n",
    "        print(dataset[i][\"qid\"])\n",
    "    a.append(dataset[i][\"qid\"])"
   ]
  },
  {
   "cell_type": "markdown",
   "metadata": {},
   "source": [
    "## 一意じゃない question は？"
   ]
  },
  {
   "cell_type": "code",
   "execution_count": 4,
   "metadata": {},
   "outputs": [],
   "source": [
    "q = []\n",
    "cnt = 0\n",
    "index = []\n",
    "for i in range(len(dataset)):\n",
    "    if dataset[i][\"question\"] in q:\n",
    "        #print(dataset[i][\"question\"])\n",
    "        cnt = cnt + 1\n",
    "        index.append(i)\n",
    "    q.append(dataset[i][\"question\"])"
   ]
  },
  {
   "cell_type": "code",
   "execution_count": 8,
   "metadata": {},
   "outputs": [
    {
     "name": "stdout",
     "output_type": "stream",
     "text": [
      "31\n"
     ]
    }
   ],
   "source": [
    "print(cnt) # 一位じゃない Q の数"
   ]
  },
  {
   "cell_type": "markdown",
   "metadata": {},
   "source": [
    "### ということで， 12086 - 31 = 12055 が一意なq. 論文によると，これは 12063 らしい． このギャップは何？"
   ]
  },
  {
   "cell_type": "code",
   "execution_count": 6,
   "metadata": {},
   "outputs": [
    {
     "name": "stdout",
     "output_type": "stream",
     "text": [
      "1211\n",
      "3199\n"
     ]
    }
   ],
   "source": [
    "# なんか一意じゃない q の例\n",
    "for j in range(index[0]+1):\n",
    "    if dataset[j][\"question\"]==dataset[index[0]][\"question\"]:\n",
    "        print(j)"
   ]
  },
  {
   "cell_type": "markdown",
   "metadata": {},
   "source": [
    "### qid, competition, timestamp が異なることがわかる(formatも他の例では異なると思われる)"
   ]
  },
  {
   "cell_type": "code",
   "execution_count": 20,
   "metadata": {},
   "outputs": [
    {
     "data": {
      "text/plain": [
       "{'qid': 1270,\n",
       " 'competition': 'abc_01',\n",
       " 'timestamp': '2003/03/30',\n",
       " 'format': '早押し',\n",
       " 'question': '中国の思想家で、「性善説」を唱えたのは孟子ですが、「性悪説」を唱えたのは誰でしょう?',\n",
       " 'answer': '荀子',\n",
       " 'documents': [{'title': '性悪説',\n",
       "   'text': '性悪説（せいあくせつ）とは、紀元前3世紀ごろの中国の思想家荀子が、孟子の性善説に反対して唱えた人間の本性に対する主張。「人の性は悪なり、その善なるものは偽（ぎ）なり」（『荀子』性悪篇より）から来ている。',\n",
       "   'score': 4},\n",
       "  {'title': '人性論',\n",
       "   'text': '戦国時代、孟子は性善説を唱え、告子の性無善無悪説に対抗した。一方、荀子は性悪説を唱え、礼による後天的な修正の必要性を説いた。',\n",
       "   'score': 5},\n",
       "  {'title': '孟子',\n",
       "   'text': 'その後、荀子（じゅんし）は性悪説を唱えたが、孟子の性善説は儒教主流派の中心概念となって多くの儒者に受け継がれた。',\n",
       "   'score': 5},\n",
       "  {'title': '性善説',\n",
       "   'text': '孟子より数十年遅く活躍した荀子は、孟子の「性善説」を批判した。この根本には「性」に関する孟子とは異なった定義がある。荀子は「性」を自然そのままの本質と考える。これは荀子が「天」を理法的な存在、あるいは宗教的なものとして捉えず、nature的な自然として理解するからである。荀子が「性」という時、欲望も含んだものとして捉えられている。そして自然そのままの本性を「悪」とした。というのも、人の「性」とその作用である「情」を放任すると、争いなどがおこり社会的混乱を招くからだという。したがって外在する「礼」によって人を矯正・感化する必要があるのだと説いた。しかし孟子「性善説」が悪の起源について矛盾を抱えていたのと同様、荀子の「性悪説」もまた善なる「礼」が何に由来するのかという点において矛盾を内包する学説であった。',\n",
       "   'score': 5},\n",
       "  {'title': '儒教',\n",
       "   'text': '孔子の死後、儒家は八派に分かれた。その中で孟軻（孟子）は性善説を唱え、孔子が最高の徳目とした仁に加え、実践が可能とされる徳目義の思想を主張し、荀況（荀子）は性悪説を唱えて礼治主義を主張した。『詩』『書』『礼』『楽』『易』『春秋』といった周の書物を六経として儒家の経典とし、その儒家的な解釈学の立場から『礼記』や『易伝』『春秋左氏伝』『春秋公羊伝』『春秋穀梁伝』といった注釈書や論文集である伝が整理された（完成は漢代）。',\n",
       "   'score': 4}]}"
      ]
     },
     "execution_count": 20,
     "metadata": {},
     "output_type": "execute_result"
    }
   ],
   "source": [
    "# 見比べ\n",
    "dataset[1211]"
   ]
  },
  {
   "cell_type": "code",
   "execution_count": 21,
   "metadata": {},
   "outputs": [
    {
     "data": {
      "text/plain": [
       "{'qid': 3361,\n",
       " 'competition': 'abc_02',\n",
       " 'timestamp': '2004/03/21',\n",
       " 'format': '早押し',\n",
       " 'question': '中国の思想家で、「性善説」を唱えたのは孟子ですが、「性悪説」を唱えたのは誰でしょう?',\n",
       " 'answer': '荀子',\n",
       " 'documents': [{'title': '性悪説',\n",
       "   'text': '性悪説（せいあくせつ）とは、紀元前3世紀ごろの中国の思想家荀子が、孟子の性善説に反対して唱えた人間の本性に対する主張。「人の性は悪なり、その善なるものは偽（ぎ）なり」（『荀子』性悪篇より）から来ている。',\n",
       "   'score': 5},\n",
       "  {'title': '人性論',\n",
       "   'text': '戦国時代、孟子は性善説を唱え、告子の性無善無悪説に対抗した。一方、荀子は性悪説を唱え、礼による後天的な修正の必要性を説いた。',\n",
       "   'score': 5},\n",
       "  {'title': '孟子',\n",
       "   'text': 'その後、荀子（じゅんし）は性悪説を唱えたが、孟子の性善説は儒教主流派の中心概念となって多くの儒者に受け継がれた。',\n",
       "   'score': 4},\n",
       "  {'title': '性善説',\n",
       "   'text': '孟子より数十年遅く活躍した荀子は、孟子の「性善説」を批判した。この根本には「性」に関する孟子とは異なった定義がある。荀子は「性」を自然そのままの本質と考える。これは荀子が「天」を理法的な存在、あるいは宗教的なものとして捉えず、nature的な自然として理解するからである。荀子が「性」という時、欲望も含んだものとして捉えられている。そして自然そのままの本性を「悪」とした。というのも、人の「性」とその作用である「情」を放任すると、争いなどがおこり社会的混乱を招くからだという。したがって外在する「礼」によって人を矯正・感化する必要があるのだと説いた。しかし孟子「性善説」が悪の起源について矛盾を抱えていたのと同様、荀子の「性悪説」もまた善なる「礼」が何に由来するのかという点において矛盾を内包する学説であった。',\n",
       "   'score': 4},\n",
       "  {'title': '儒教',\n",
       "   'text': '孔子の死後、儒家は八派に分かれた。その中で孟軻（孟子）は性善説を唱え、孔子が最高の徳目とした仁に加え、実践が可能とされる徳目義の思想を主張し、荀況（荀子）は性悪説を唱えて礼治主義を主張した。『詩』『書』『礼』『楽』『易』『春秋』といった周の書物を六経として儒家の経典とし、その儒家的な解釈学の立場から『礼記』や『易伝』『春秋左氏伝』『春秋公羊伝』『春秋穀梁伝』といった注釈書や論文集である伝が整理された（完成は漢代）。',\n",
       "   'score': 2}]}"
      ]
     },
     "execution_count": 21,
     "metadata": {},
     "output_type": "execute_result"
    }
   ],
   "source": [
    "dataset[3199]"
   ]
  },
  {
   "cell_type": "markdown",
   "metadata": {},
   "source": [
    "### 検索クエリqが同じなので， title,textの中身も同じ．"
   ]
  },
  {
   "cell_type": "code",
   "execution_count": 14,
   "metadata": {},
   "outputs": [
    {
     "name": "stdout",
     "output_type": "stream",
     "text": [
      "性悪説\n",
      "人性論\n",
      "孟子\n",
      "性善説\n",
      "儒教\n"
     ]
    }
   ],
   "source": [
    "# 見比べ\n",
    "a = dataset[1211][\"documents\"]\n",
    "for i in range(len(a)):\n",
    "    print(a[i]['title'])"
   ]
  },
  {
   "cell_type": "code",
   "execution_count": 15,
   "metadata": {},
   "outputs": [
    {
     "name": "stdout",
     "output_type": "stream",
     "text": [
      "性悪説\n",
      "人性論\n",
      "孟子\n",
      "性善説\n",
      "儒教\n"
     ]
    }
   ],
   "source": [
    "# 見比べ\n",
    "a = dataset[3199][\"documents\"]\n",
    "for i in range(len(a)):\n",
    "    print(a[i]['title'])"
   ]
  },
  {
   "cell_type": "code",
   "execution_count": 18,
   "metadata": {},
   "outputs": [
    {
     "name": "stdout",
     "output_type": "stream",
     "text": [
      "0 性悪説（せいあくせつ）とは、紀元前3世紀ごろの中国の思想家荀子が、孟子の性善説に反対して唱えた人間の本性に対する主張。「人の性は悪なり、その善なるものは偽（ぎ）なり」（『荀子』性悪篇より）から来ている。\n",
      "1 戦国時代、孟子は性善説を唱え、告子の性無善無悪説に対抗した。一方、荀子は性悪説を唱え、礼による後天的な修正の必要性を説いた。\n",
      "2 その後、荀子（じゅんし）は性悪説を唱えたが、孟子の性善説は儒教主流派の中心概念となって多くの儒者に受け継がれた。\n",
      "3 孟子より数十年遅く活躍した荀子は、孟子の「性善説」を批判した。この根本には「性」に関する孟子とは異なった定義がある。荀子は「性」を自然そのままの本質と考える。これは荀子が「天」を理法的な存在、あるいは宗教的なものとして捉えず、nature的な自然として理解するからである。荀子が「性」という時、欲望も含んだものとして捉えられている。そして自然そのままの本性を「悪」とした。というのも、人の「性」とその作用である「情」を放任すると、争いなどがおこり社会的混乱を招くからだという。したがって外在する「礼」によって人を矯正・感化する必要があるのだと説いた。しかし孟子「性善説」が悪の起源について矛盾を抱えていたのと同様、荀子の「性悪説」もまた善なる「礼」が何に由来するのかという点において矛盾を内包する学説であった。\n",
      "4 孔子の死後、儒家は八派に分かれた。その中で孟軻（孟子）は性善説を唱え、孔子が最高の徳目とした仁に加え、実践が可能とされる徳目義の思想を主張し、荀況（荀子）は性悪説を唱えて礼治主義を主張した。『詩』『書』『礼』『楽』『易』『春秋』といった周の書物を六経として儒家の経典とし、その儒家的な解釈学の立場から『礼記』や『易伝』『春秋左氏伝』『春秋公羊伝』『春秋穀梁伝』といった注釈書や論文集である伝が整理された（完成は漢代）。\n"
     ]
    }
   ],
   "source": [
    "# 見比べ\n",
    "a = dataset[1211][\"documents\"]\n",
    "for i in range(len(a)):\n",
    "    print(i,a[i]['text'])"
   ]
  },
  {
   "cell_type": "code",
   "execution_count": 19,
   "metadata": {},
   "outputs": [
    {
     "name": "stdout",
     "output_type": "stream",
     "text": [
      "0 性悪説（せいあくせつ）とは、紀元前3世紀ごろの中国の思想家荀子が、孟子の性善説に反対して唱えた人間の本性に対する主張。「人の性は悪なり、その善なるものは偽（ぎ）なり」（『荀子』性悪篇より）から来ている。\n",
      "1 戦国時代、孟子は性善説を唱え、告子の性無善無悪説に対抗した。一方、荀子は性悪説を唱え、礼による後天的な修正の必要性を説いた。\n",
      "2 その後、荀子（じゅんし）は性悪説を唱えたが、孟子の性善説は儒教主流派の中心概念となって多くの儒者に受け継がれた。\n",
      "3 孟子より数十年遅く活躍した荀子は、孟子の「性善説」を批判した。この根本には「性」に関する孟子とは異なった定義がある。荀子は「性」を自然そのままの本質と考える。これは荀子が「天」を理法的な存在、あるいは宗教的なものとして捉えず、nature的な自然として理解するからである。荀子が「性」という時、欲望も含んだものとして捉えられている。そして自然そのままの本性を「悪」とした。というのも、人の「性」とその作用である「情」を放任すると、争いなどがおこり社会的混乱を招くからだという。したがって外在する「礼」によって人を矯正・感化する必要があるのだと説いた。しかし孟子「性善説」が悪の起源について矛盾を抱えていたのと同様、荀子の「性悪説」もまた善なる「礼」が何に由来するのかという点において矛盾を内包する学説であった。\n",
      "4 孔子の死後、儒家は八派に分かれた。その中で孟軻（孟子）は性善説を唱え、孔子が最高の徳目とした仁に加え、実践が可能とされる徳目義の思想を主張し、荀況（荀子）は性悪説を唱えて礼治主義を主張した。『詩』『書』『礼』『楽』『易』『春秋』といった周の書物を六経として儒家の経典とし、その儒家的な解釈学の立場から『礼記』や『易伝』『春秋左氏伝』『春秋公羊伝』『春秋穀梁伝』といった注釈書や論文集である伝が整理された（完成は漢代）。\n"
     ]
    }
   ],
   "source": [
    "# 見比べ\n",
    "a = dataset[3199][\"documents\"]\n",
    "for i in range(len(a)):\n",
    "    print(i,a[i]['text'])"
   ]
  },
  {
   "cell_type": "code",
   "execution_count": null,
   "metadata": {},
   "outputs": [],
   "source": []
  }
 ],
 "metadata": {
  "kernelspec": {
   "display_name": "Python 3",
   "language": "python",
   "name": "python3"
  },
  "language_info": {
   "codemirror_mode": {
    "name": "ipython",
    "version": 3
   },
   "file_extension": ".py",
   "mimetype": "text/x-python",
   "name": "python",
   "nbconvert_exporter": "python",
   "pygments_lexer": "ipython3",
   "version": "3.7.3"
  }
 },
 "nbformat": 4,
 "nbformat_minor": 4
}
